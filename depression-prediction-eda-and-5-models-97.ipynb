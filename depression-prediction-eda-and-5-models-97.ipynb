{
 "cells": [
  {
   "cell_type": "markdown",
   "id": "9052a146",
   "metadata": {
    "papermill": {
     "duration": 0.011207,
     "end_time": "2025-01-21T05:21:56.703656",
     "exception": false,
     "start_time": "2025-01-21T05:21:56.692449",
     "status": "completed"
    },
    "tags": []
   },
   "source": [
    "# Depression Prediction- EDA and Modelling |97% Accuracy"
   ]
  },
  {
   "cell_type": "markdown",
   "id": "16fa0253",
   "metadata": {
    "papermill": {
     "duration": 0.010085,
     "end_time": "2025-01-21T05:21:56.724303",
     "exception": false,
     "start_time": "2025-01-21T05:21:56.714218",
     "status": "completed"
    },
    "tags": []
   },
   "source": [
    "# Goal:\n",
    "<span style=\"font-size: 18px;\">This project aims to build an AI model to predict whether an individual is experiencing depression based on various psychological, lifestyle, and demographic factors. Depression is a serious mental health condition that affects mood, thinking, and daily activities. Early detection and intervention are crucial in managing depression and improving mental well-being.</span>"
   ]
  },
  {
   "cell_type": "markdown",
   "id": "ec4a299c",
   "metadata": {
    "papermill": {
     "duration": 0.010479,
     "end_time": "2025-01-21T05:21:56.744960",
     "exception": false,
     "start_time": "2025-01-21T05:21:56.734481",
     "status": "completed"
    },
    "tags": []
   },
   "source": [
    "# Project Overview:\n",
    "## Dataset:  \n",
    "We will use the Depression Professional Dataset from Kaggle, which contains various attributes related to mental health, lifestyle habits, and work-related stress.\n",
    "## Problem Type: \n",
    "This is a binary classification problem where the goal is to predict whether a person is suffering from depression (Yes or No).\n",
    "## Features:\n",
    "\n",
    "* Demographic factors (e.g., Age, Gender)\n",
    "* Lifestyle habits (e.g., Sleep Duration, Dietary Habits)\n",
    "* Work-related stress (e.g., Work Pressure, Financial Stress)\n",
    "* Mental health history (e.g., Family History of Mental Illness)\n",
    "* Target Variable: \"Depression\" (Yes/No), which serves as an indicator of severe depression.\n",
    "\n"
   ]
  },
  {
   "cell_type": "markdown",
   "id": "39218e7f",
   "metadata": {
    "papermill": {
     "duration": 0.00992,
     "end_time": "2025-01-21T05:21:56.765276",
     "exception": false,
     "start_time": "2025-01-21T05:21:56.755356",
     "status": "completed"
    },
    "tags": []
   },
   "source": [
    "# **Import Libraries**"
   ]
  },
  {
   "cell_type": "code",
   "execution_count": 1,
   "id": "946fb85c",
   "metadata": {
    "execution": {
     "iopub.execute_input": "2025-01-21T05:21:56.787905Z",
     "iopub.status.busy": "2025-01-21T05:21:56.787336Z",
     "iopub.status.idle": "2025-01-21T05:22:18.350349Z",
     "shell.execute_reply": "2025-01-21T05:22:18.349275Z"
    },
    "papermill": {
     "duration": 21.576371,
     "end_time": "2025-01-21T05:22:18.352292",
     "exception": false,
     "start_time": "2025-01-21T05:21:56.775921",
     "status": "completed"
    },
    "tags": []
   },
   "outputs": [],
   "source": [
    "# Import necessary libraries\n",
    "import pandas as pd\n",
    "import numpy as np\n",
    "from sklearn.model_selection import train_test_split\n",
    "from sklearn.preprocessing import LabelEncoder, StandardScaler\n",
    "from sklearn.impute import SimpleImputer\n",
    "from sklearn.ensemble import RandomForestClassifier\n",
    "from sklearn.metrics import classification_report, accuracy_score, accuracy_score, confusion_matrix, roc_curve, auc\n",
    "import tensorflow as tf\n",
    "from tensorflow.keras.models import Sequential\n",
    "from tensorflow.keras.callbacks import EarlyStopping\n",
    "from keras.layers import Dense , Activation ,Flatten , Conv2D , MaxPooling2D\n",
    "from keras import Sequential\n",
    "import seaborn as sns\n",
    "from sklearn.model_selection import train_test_split\n",
    "from lightgbm import LGBMClassifier\n",
    "from catboost import CatBoostClassifier\n"
   ]
  },
  {
   "cell_type": "markdown",
   "id": "bfef2188",
   "metadata": {
    "papermill": {
     "duration": 0.010138,
     "end_time": "2025-01-21T05:22:18.373307",
     "exception": false,
     "start_time": "2025-01-21T05:22:18.363169",
     "status": "completed"
    },
    "tags": []
   },
   "source": [
    "# Load Dataset"
   ]
  },
  {
   "cell_type": "code",
   "execution_count": 2,
   "id": "dfa403f9",
   "metadata": {
    "execution": {
     "iopub.execute_input": "2025-01-21T05:22:18.396129Z",
     "iopub.status.busy": "2025-01-21T05:22:18.395279Z",
     "iopub.status.idle": "2025-01-21T05:22:18.452686Z",
     "shell.execute_reply": "2025-01-21T05:22:18.451601Z"
    },
    "papermill": {
     "duration": 0.070652,
     "end_time": "2025-01-21T05:22:18.454441",
     "exception": false,
     "start_time": "2025-01-21T05:22:18.383789",
     "status": "completed"
    },
    "tags": []
   },
   "outputs": [
    {
     "data": {
      "text/html": [
       "<div>\n",
       "<style scoped>\n",
       "    .dataframe tbody tr th:only-of-type {\n",
       "        vertical-align: middle;\n",
       "    }\n",
       "\n",
       "    .dataframe tbody tr th {\n",
       "        vertical-align: top;\n",
       "    }\n",
       "\n",
       "    .dataframe thead th {\n",
       "        text-align: right;\n",
       "    }\n",
       "</style>\n",
       "<table border=\"1\" class=\"dataframe\">\n",
       "  <thead>\n",
       "    <tr style=\"text-align: right;\">\n",
       "      <th></th>\n",
       "      <th>Gender</th>\n",
       "      <th>Age</th>\n",
       "      <th>Work Pressure</th>\n",
       "      <th>Job Satisfaction</th>\n",
       "      <th>Sleep Duration</th>\n",
       "      <th>Dietary Habits</th>\n",
       "      <th>Have you ever had suicidal thoughts ?</th>\n",
       "      <th>Work Hours</th>\n",
       "      <th>Financial Stress</th>\n",
       "      <th>Family History of Mental Illness</th>\n",
       "      <th>Depression</th>\n",
       "    </tr>\n",
       "  </thead>\n",
       "  <tbody>\n",
       "    <tr>\n",
       "      <th>0</th>\n",
       "      <td>Female</td>\n",
       "      <td>37</td>\n",
       "      <td>2.0</td>\n",
       "      <td>4.0</td>\n",
       "      <td>7-8 hours</td>\n",
       "      <td>Moderate</td>\n",
       "      <td>No</td>\n",
       "      <td>6</td>\n",
       "      <td>2</td>\n",
       "      <td>No</td>\n",
       "      <td>No</td>\n",
       "    </tr>\n",
       "    <tr>\n",
       "      <th>1</th>\n",
       "      <td>Male</td>\n",
       "      <td>60</td>\n",
       "      <td>4.0</td>\n",
       "      <td>3.0</td>\n",
       "      <td>5-6 hours</td>\n",
       "      <td>Unhealthy</td>\n",
       "      <td>Yes</td>\n",
       "      <td>0</td>\n",
       "      <td>4</td>\n",
       "      <td>Yes</td>\n",
       "      <td>No</td>\n",
       "    </tr>\n",
       "    <tr>\n",
       "      <th>2</th>\n",
       "      <td>Female</td>\n",
       "      <td>42</td>\n",
       "      <td>2.0</td>\n",
       "      <td>3.0</td>\n",
       "      <td>5-6 hours</td>\n",
       "      <td>Moderate</td>\n",
       "      <td>No</td>\n",
       "      <td>0</td>\n",
       "      <td>2</td>\n",
       "      <td>No</td>\n",
       "      <td>No</td>\n",
       "    </tr>\n",
       "    <tr>\n",
       "      <th>3</th>\n",
       "      <td>Female</td>\n",
       "      <td>44</td>\n",
       "      <td>3.0</td>\n",
       "      <td>5.0</td>\n",
       "      <td>7-8 hours</td>\n",
       "      <td>Healthy</td>\n",
       "      <td>Yes</td>\n",
       "      <td>1</td>\n",
       "      <td>2</td>\n",
       "      <td>Yes</td>\n",
       "      <td>No</td>\n",
       "    </tr>\n",
       "    <tr>\n",
       "      <th>4</th>\n",
       "      <td>Male</td>\n",
       "      <td>48</td>\n",
       "      <td>4.0</td>\n",
       "      <td>3.0</td>\n",
       "      <td>7-8 hours</td>\n",
       "      <td>Moderate</td>\n",
       "      <td>Yes</td>\n",
       "      <td>6</td>\n",
       "      <td>5</td>\n",
       "      <td>Yes</td>\n",
       "      <td>No</td>\n",
       "    </tr>\n",
       "    <tr>\n",
       "      <th>5</th>\n",
       "      <td>Female</td>\n",
       "      <td>60</td>\n",
       "      <td>1.0</td>\n",
       "      <td>4.0</td>\n",
       "      <td>7-8 hours</td>\n",
       "      <td>Unhealthy</td>\n",
       "      <td>Yes</td>\n",
       "      <td>12</td>\n",
       "      <td>3</td>\n",
       "      <td>Yes</td>\n",
       "      <td>No</td>\n",
       "    </tr>\n",
       "    <tr>\n",
       "      <th>6</th>\n",
       "      <td>Female</td>\n",
       "      <td>30</td>\n",
       "      <td>4.0</td>\n",
       "      <td>2.0</td>\n",
       "      <td>More than 8 hours</td>\n",
       "      <td>Healthy</td>\n",
       "      <td>No</td>\n",
       "      <td>3</td>\n",
       "      <td>1</td>\n",
       "      <td>No</td>\n",
       "      <td>No</td>\n",
       "    </tr>\n",
       "    <tr>\n",
       "      <th>7</th>\n",
       "      <td>Male</td>\n",
       "      <td>30</td>\n",
       "      <td>1.0</td>\n",
       "      <td>2.0</td>\n",
       "      <td>More than 8 hours</td>\n",
       "      <td>Unhealthy</td>\n",
       "      <td>Yes</td>\n",
       "      <td>6</td>\n",
       "      <td>1</td>\n",
       "      <td>No</td>\n",
       "      <td>No</td>\n",
       "    </tr>\n",
       "    <tr>\n",
       "      <th>8</th>\n",
       "      <td>Male</td>\n",
       "      <td>56</td>\n",
       "      <td>1.0</td>\n",
       "      <td>2.0</td>\n",
       "      <td>More than 8 hours</td>\n",
       "      <td>Moderate</td>\n",
       "      <td>Yes</td>\n",
       "      <td>11</td>\n",
       "      <td>5</td>\n",
       "      <td>Yes</td>\n",
       "      <td>No</td>\n",
       "    </tr>\n",
       "    <tr>\n",
       "      <th>9</th>\n",
       "      <td>Female</td>\n",
       "      <td>35</td>\n",
       "      <td>3.0</td>\n",
       "      <td>4.0</td>\n",
       "      <td>Less than 5 hours</td>\n",
       "      <td>Moderate</td>\n",
       "      <td>No</td>\n",
       "      <td>6</td>\n",
       "      <td>4</td>\n",
       "      <td>Yes</td>\n",
       "      <td>No</td>\n",
       "    </tr>\n",
       "    <tr>\n",
       "      <th>10</th>\n",
       "      <td>Male</td>\n",
       "      <td>21</td>\n",
       "      <td>2.0</td>\n",
       "      <td>5.0</td>\n",
       "      <td>Less than 5 hours</td>\n",
       "      <td>Moderate</td>\n",
       "      <td>No</td>\n",
       "      <td>6</td>\n",
       "      <td>1</td>\n",
       "      <td>Yes</td>\n",
       "      <td>No</td>\n",
       "    </tr>\n",
       "    <tr>\n",
       "      <th>11</th>\n",
       "      <td>Male</td>\n",
       "      <td>57</td>\n",
       "      <td>1.0</td>\n",
       "      <td>2.0</td>\n",
       "      <td>Less than 5 hours</td>\n",
       "      <td>Healthy</td>\n",
       "      <td>No</td>\n",
       "      <td>10</td>\n",
       "      <td>1</td>\n",
       "      <td>No</td>\n",
       "      <td>No</td>\n",
       "    </tr>\n",
       "    <tr>\n",
       "      <th>12</th>\n",
       "      <td>Male</td>\n",
       "      <td>54</td>\n",
       "      <td>3.0</td>\n",
       "      <td>2.0</td>\n",
       "      <td>7-8 hours</td>\n",
       "      <td>Healthy</td>\n",
       "      <td>No</td>\n",
       "      <td>11</td>\n",
       "      <td>4</td>\n",
       "      <td>No</td>\n",
       "      <td>No</td>\n",
       "    </tr>\n",
       "    <tr>\n",
       "      <th>13</th>\n",
       "      <td>Male</td>\n",
       "      <td>51</td>\n",
       "      <td>2.0</td>\n",
       "      <td>3.0</td>\n",
       "      <td>Less than 5 hours</td>\n",
       "      <td>Healthy</td>\n",
       "      <td>No</td>\n",
       "      <td>8</td>\n",
       "      <td>5</td>\n",
       "      <td>No</td>\n",
       "      <td>No</td>\n",
       "    </tr>\n",
       "    <tr>\n",
       "      <th>14</th>\n",
       "      <td>Male</td>\n",
       "      <td>18</td>\n",
       "      <td>3.0</td>\n",
       "      <td>1.0</td>\n",
       "      <td>More than 8 hours</td>\n",
       "      <td>Unhealthy</td>\n",
       "      <td>Yes</td>\n",
       "      <td>7</td>\n",
       "      <td>3</td>\n",
       "      <td>No</td>\n",
       "      <td>Yes</td>\n",
       "    </tr>\n",
       "    <tr>\n",
       "      <th>15</th>\n",
       "      <td>Female</td>\n",
       "      <td>51</td>\n",
       "      <td>3.0</td>\n",
       "      <td>3.0</td>\n",
       "      <td>Less than 5 hours</td>\n",
       "      <td>Unhealthy</td>\n",
       "      <td>No</td>\n",
       "      <td>9</td>\n",
       "      <td>1</td>\n",
       "      <td>No</td>\n",
       "      <td>No</td>\n",
       "    </tr>\n",
       "    <tr>\n",
       "      <th>16</th>\n",
       "      <td>Male</td>\n",
       "      <td>31</td>\n",
       "      <td>3.0</td>\n",
       "      <td>4.0</td>\n",
       "      <td>7-8 hours</td>\n",
       "      <td>Healthy</td>\n",
       "      <td>No</td>\n",
       "      <td>9</td>\n",
       "      <td>5</td>\n",
       "      <td>No</td>\n",
       "      <td>No</td>\n",
       "    </tr>\n",
       "    <tr>\n",
       "      <th>17</th>\n",
       "      <td>Female</td>\n",
       "      <td>60</td>\n",
       "      <td>4.0</td>\n",
       "      <td>1.0</td>\n",
       "      <td>Less than 5 hours</td>\n",
       "      <td>Unhealthy</td>\n",
       "      <td>No</td>\n",
       "      <td>10</td>\n",
       "      <td>5</td>\n",
       "      <td>Yes</td>\n",
       "      <td>No</td>\n",
       "    </tr>\n",
       "    <tr>\n",
       "      <th>18</th>\n",
       "      <td>Male</td>\n",
       "      <td>58</td>\n",
       "      <td>1.0</td>\n",
       "      <td>2.0</td>\n",
       "      <td>More than 8 hours</td>\n",
       "      <td>Healthy</td>\n",
       "      <td>No</td>\n",
       "      <td>8</td>\n",
       "      <td>4</td>\n",
       "      <td>No</td>\n",
       "      <td>No</td>\n",
       "    </tr>\n",
       "    <tr>\n",
       "      <th>19</th>\n",
       "      <td>Female</td>\n",
       "      <td>51</td>\n",
       "      <td>5.0</td>\n",
       "      <td>5.0</td>\n",
       "      <td>5-6 hours</td>\n",
       "      <td>Healthy</td>\n",
       "      <td>No</td>\n",
       "      <td>11</td>\n",
       "      <td>2</td>\n",
       "      <td>No</td>\n",
       "      <td>No</td>\n",
       "    </tr>\n",
       "  </tbody>\n",
       "</table>\n",
       "</div>"
      ],
      "text/plain": [
       "    Gender  Age  Work Pressure  Job Satisfaction     Sleep Duration  \\\n",
       "0   Female   37            2.0               4.0          7-8 hours   \n",
       "1     Male   60            4.0               3.0          5-6 hours   \n",
       "2   Female   42            2.0               3.0          5-6 hours   \n",
       "3   Female   44            3.0               5.0          7-8 hours   \n",
       "4     Male   48            4.0               3.0          7-8 hours   \n",
       "5   Female   60            1.0               4.0          7-8 hours   \n",
       "6   Female   30            4.0               2.0  More than 8 hours   \n",
       "7     Male   30            1.0               2.0  More than 8 hours   \n",
       "8     Male   56            1.0               2.0  More than 8 hours   \n",
       "9   Female   35            3.0               4.0  Less than 5 hours   \n",
       "10    Male   21            2.0               5.0  Less than 5 hours   \n",
       "11    Male   57            1.0               2.0  Less than 5 hours   \n",
       "12    Male   54            3.0               2.0          7-8 hours   \n",
       "13    Male   51            2.0               3.0  Less than 5 hours   \n",
       "14    Male   18            3.0               1.0  More than 8 hours   \n",
       "15  Female   51            3.0               3.0  Less than 5 hours   \n",
       "16    Male   31            3.0               4.0          7-8 hours   \n",
       "17  Female   60            4.0               1.0  Less than 5 hours   \n",
       "18    Male   58            1.0               2.0  More than 8 hours   \n",
       "19  Female   51            5.0               5.0          5-6 hours   \n",
       "\n",
       "   Dietary Habits Have you ever had suicidal thoughts ?  Work Hours  \\\n",
       "0        Moderate                                    No           6   \n",
       "1       Unhealthy                                   Yes           0   \n",
       "2        Moderate                                    No           0   \n",
       "3         Healthy                                   Yes           1   \n",
       "4        Moderate                                   Yes           6   \n",
       "5       Unhealthy                                   Yes          12   \n",
       "6         Healthy                                    No           3   \n",
       "7       Unhealthy                                   Yes           6   \n",
       "8        Moderate                                   Yes          11   \n",
       "9        Moderate                                    No           6   \n",
       "10       Moderate                                    No           6   \n",
       "11        Healthy                                    No          10   \n",
       "12        Healthy                                    No          11   \n",
       "13        Healthy                                    No           8   \n",
       "14      Unhealthy                                   Yes           7   \n",
       "15      Unhealthy                                    No           9   \n",
       "16        Healthy                                    No           9   \n",
       "17      Unhealthy                                    No          10   \n",
       "18        Healthy                                    No           8   \n",
       "19        Healthy                                    No          11   \n",
       "\n",
       "    Financial Stress Family History of Mental Illness Depression  \n",
       "0                  2                               No         No  \n",
       "1                  4                              Yes         No  \n",
       "2                  2                               No         No  \n",
       "3                  2                              Yes         No  \n",
       "4                  5                              Yes         No  \n",
       "5                  3                              Yes         No  \n",
       "6                  1                               No         No  \n",
       "7                  1                               No         No  \n",
       "8                  5                              Yes         No  \n",
       "9                  4                              Yes         No  \n",
       "10                 1                              Yes         No  \n",
       "11                 1                               No         No  \n",
       "12                 4                               No         No  \n",
       "13                 5                               No         No  \n",
       "14                 3                               No        Yes  \n",
       "15                 1                               No         No  \n",
       "16                 5                               No         No  \n",
       "17                 5                              Yes         No  \n",
       "18                 4                               No         No  \n",
       "19                 2                               No         No  "
      ]
     },
     "execution_count": 2,
     "metadata": {},
     "output_type": "execute_result"
    }
   ],
   "source": [
    "df = pd.read_csv('/kaggle/input/depression-professional-dataset/Depression Professional Dataset.csv')\n",
    "\n",
    "# Creating copy for working dataset\n",
    "data = df.copy()\n",
    "data.head(20)"
   ]
  },
  {
   "cell_type": "markdown",
   "id": "ef385428",
   "metadata": {
    "papermill": {
     "duration": 0.010429,
     "end_time": "2025-01-21T05:22:18.476310",
     "exception": false,
     "start_time": "2025-01-21T05:22:18.465881",
     "status": "completed"
    },
    "tags": []
   },
   "source": [
    "# Data Processing"
   ]
  },
  {
   "cell_type": "code",
   "execution_count": 3,
   "id": "c983da8d",
   "metadata": {
    "execution": {
     "iopub.execute_input": "2025-01-21T05:22:18.499386Z",
     "iopub.status.busy": "2025-01-21T05:22:18.498965Z",
     "iopub.status.idle": "2025-01-21T05:22:18.504920Z",
     "shell.execute_reply": "2025-01-21T05:22:18.503846Z"
    },
    "papermill": {
     "duration": 0.019749,
     "end_time": "2025-01-21T05:22:18.506669",
     "exception": false,
     "start_time": "2025-01-21T05:22:18.486920",
     "status": "completed"
    },
    "tags": []
   },
   "outputs": [
    {
     "data": {
      "text/plain": [
       "(2054, 11)"
      ]
     },
     "execution_count": 3,
     "metadata": {},
     "output_type": "execute_result"
    }
   ],
   "source": [
    "data.shape"
   ]
  },
  {
   "cell_type": "code",
   "execution_count": 4,
   "id": "ff370088",
   "metadata": {
    "execution": {
     "iopub.execute_input": "2025-01-21T05:22:18.530041Z",
     "iopub.status.busy": "2025-01-21T05:22:18.529680Z",
     "iopub.status.idle": "2025-01-21T05:22:18.557085Z",
     "shell.execute_reply": "2025-01-21T05:22:18.556068Z"
    },
    "papermill": {
     "duration": 0.041108,
     "end_time": "2025-01-21T05:22:18.558891",
     "exception": false,
     "start_time": "2025-01-21T05:22:18.517783",
     "status": "completed"
    },
    "tags": []
   },
   "outputs": [
    {
     "data": {
      "text/html": [
       "<div>\n",
       "<style scoped>\n",
       "    .dataframe tbody tr th:only-of-type {\n",
       "        vertical-align: middle;\n",
       "    }\n",
       "\n",
       "    .dataframe tbody tr th {\n",
       "        vertical-align: top;\n",
       "    }\n",
       "\n",
       "    .dataframe thead th {\n",
       "        text-align: right;\n",
       "    }\n",
       "</style>\n",
       "<table border=\"1\" class=\"dataframe\">\n",
       "  <thead>\n",
       "    <tr style=\"text-align: right;\">\n",
       "      <th></th>\n",
       "      <th>Age</th>\n",
       "      <th>Work Pressure</th>\n",
       "      <th>Job Satisfaction</th>\n",
       "      <th>Work Hours</th>\n",
       "      <th>Financial Stress</th>\n",
       "    </tr>\n",
       "  </thead>\n",
       "  <tbody>\n",
       "    <tr>\n",
       "      <th>count</th>\n",
       "      <td>2054.000000</td>\n",
       "      <td>2054.000000</td>\n",
       "      <td>2054.000000</td>\n",
       "      <td>2054.000000</td>\n",
       "      <td>2054.000000</td>\n",
       "    </tr>\n",
       "    <tr>\n",
       "      <th>mean</th>\n",
       "      <td>42.171860</td>\n",
       "      <td>3.021908</td>\n",
       "      <td>3.015093</td>\n",
       "      <td>5.930867</td>\n",
       "      <td>2.978578</td>\n",
       "    </tr>\n",
       "    <tr>\n",
       "      <th>std</th>\n",
       "      <td>11.461202</td>\n",
       "      <td>1.417312</td>\n",
       "      <td>1.418432</td>\n",
       "      <td>3.773945</td>\n",
       "      <td>1.413362</td>\n",
       "    </tr>\n",
       "    <tr>\n",
       "      <th>min</th>\n",
       "      <td>18.000000</td>\n",
       "      <td>1.000000</td>\n",
       "      <td>1.000000</td>\n",
       "      <td>0.000000</td>\n",
       "      <td>1.000000</td>\n",
       "    </tr>\n",
       "    <tr>\n",
       "      <th>25%</th>\n",
       "      <td>35.000000</td>\n",
       "      <td>2.000000</td>\n",
       "      <td>2.000000</td>\n",
       "      <td>3.000000</td>\n",
       "      <td>2.000000</td>\n",
       "    </tr>\n",
       "    <tr>\n",
       "      <th>50%</th>\n",
       "      <td>43.000000</td>\n",
       "      <td>3.000000</td>\n",
       "      <td>3.000000</td>\n",
       "      <td>6.000000</td>\n",
       "      <td>3.000000</td>\n",
       "    </tr>\n",
       "    <tr>\n",
       "      <th>75%</th>\n",
       "      <td>51.750000</td>\n",
       "      <td>4.000000</td>\n",
       "      <td>4.000000</td>\n",
       "      <td>9.000000</td>\n",
       "      <td>4.000000</td>\n",
       "    </tr>\n",
       "    <tr>\n",
       "      <th>max</th>\n",
       "      <td>60.000000</td>\n",
       "      <td>5.000000</td>\n",
       "      <td>5.000000</td>\n",
       "      <td>12.000000</td>\n",
       "      <td>5.000000</td>\n",
       "    </tr>\n",
       "  </tbody>\n",
       "</table>\n",
       "</div>"
      ],
      "text/plain": [
       "               Age  Work Pressure  Job Satisfaction   Work Hours  \\\n",
       "count  2054.000000    2054.000000       2054.000000  2054.000000   \n",
       "mean     42.171860       3.021908          3.015093     5.930867   \n",
       "std      11.461202       1.417312          1.418432     3.773945   \n",
       "min      18.000000       1.000000          1.000000     0.000000   \n",
       "25%      35.000000       2.000000          2.000000     3.000000   \n",
       "50%      43.000000       3.000000          3.000000     6.000000   \n",
       "75%      51.750000       4.000000          4.000000     9.000000   \n",
       "max      60.000000       5.000000          5.000000    12.000000   \n",
       "\n",
       "       Financial Stress  \n",
       "count       2054.000000  \n",
       "mean           2.978578  \n",
       "std            1.413362  \n",
       "min            1.000000  \n",
       "25%            2.000000  \n",
       "50%            3.000000  \n",
       "75%            4.000000  \n",
       "max            5.000000  "
      ]
     },
     "execution_count": 4,
     "metadata": {},
     "output_type": "execute_result"
    }
   ],
   "source": [
    "data.describe()"
   ]
  },
  {
   "cell_type": "markdown",
   "id": "9e8fd2cf",
   "metadata": {
    "papermill": {
     "duration": 0.010894,
     "end_time": "2025-01-21T05:22:18.581405",
     "exception": false,
     "start_time": "2025-01-21T05:22:18.570511",
     "status": "completed"
    },
    "tags": []
   },
   "source": [
    "# Identify Null, errors or duplicates"
   ]
  },
  {
   "cell_type": "code",
   "execution_count": 5,
   "id": "fefdcfb2",
   "metadata": {
    "execution": {
     "iopub.execute_input": "2025-01-21T05:22:18.605315Z",
     "iopub.status.busy": "2025-01-21T05:22:18.604919Z",
     "iopub.status.idle": "2025-01-21T05:22:18.613530Z",
     "shell.execute_reply": "2025-01-21T05:22:18.612598Z"
    },
    "papermill": {
     "duration": 0.022468,
     "end_time": "2025-01-21T05:22:18.615051",
     "exception": false,
     "start_time": "2025-01-21T05:22:18.592583",
     "status": "completed"
    },
    "tags": []
   },
   "outputs": [
    {
     "data": {
      "text/plain": [
       "Gender                                   0\n",
       "Age                                      0\n",
       "Work Pressure                            0\n",
       "Job Satisfaction                         0\n",
       "Sleep Duration                           0\n",
       "Dietary Habits                           0\n",
       "Have you ever had suicidal thoughts ?    0\n",
       "Work Hours                               0\n",
       "Financial Stress                         0\n",
       "Family History of Mental Illness         0\n",
       "Depression                               0\n",
       "dtype: int64"
      ]
     },
     "execution_count": 5,
     "metadata": {},
     "output_type": "execute_result"
    }
   ],
   "source": [
    "#used to count the number of missing values (NaNs) in each column of a DataFrame data\n",
    "data.isnull().sum()"
   ]
  },
  {
   "cell_type": "code",
   "execution_count": 6,
   "id": "b55c27eb",
   "metadata": {
    "execution": {
     "iopub.execute_input": "2025-01-21T05:22:18.640334Z",
     "iopub.status.busy": "2025-01-21T05:22:18.639936Z",
     "iopub.status.idle": "2025-01-21T05:22:18.651246Z",
     "shell.execute_reply": "2025-01-21T05:22:18.650150Z"
    },
    "papermill": {
     "duration": 0.025074,
     "end_time": "2025-01-21T05:22:18.652940",
     "exception": false,
     "start_time": "2025-01-21T05:22:18.627866",
     "status": "completed"
    },
    "tags": []
   },
   "outputs": [
    {
     "data": {
      "text/plain": [
       "0"
      ]
     },
     "execution_count": 6,
     "metadata": {},
     "output_type": "execute_result"
    }
   ],
   "source": [
    "#used to count the number of duplicated rows in a DataFrame data\n",
    "data.duplicated().sum()"
   ]
  },
  {
   "cell_type": "code",
   "execution_count": 7,
   "id": "4db76b2e",
   "metadata": {
    "execution": {
     "iopub.execute_input": "2025-01-21T05:22:18.677942Z",
     "iopub.status.busy": "2025-01-21T05:22:18.677616Z",
     "iopub.status.idle": "2025-01-21T05:22:18.685003Z",
     "shell.execute_reply": "2025-01-21T05:22:18.684016Z"
    },
    "papermill": {
     "duration": 0.021741,
     "end_time": "2025-01-21T05:22:18.686845",
     "exception": false,
     "start_time": "2025-01-21T05:22:18.665104",
     "status": "completed"
    },
    "tags": []
   },
   "outputs": [],
   "source": [
    "# remove duplicate rows from the DataFrame data\n",
    "\n",
    "data = data.drop_duplicates()"
   ]
  },
  {
   "cell_type": "code",
   "execution_count": 8,
   "id": "b5f44a2b",
   "metadata": {
    "execution": {
     "iopub.execute_input": "2025-01-21T05:22:18.710895Z",
     "iopub.status.busy": "2025-01-21T05:22:18.710486Z",
     "iopub.status.idle": "2025-01-21T05:22:18.716191Z",
     "shell.execute_reply": "2025-01-21T05:22:18.715294Z"
    },
    "papermill": {
     "duration": 0.01986,
     "end_time": "2025-01-21T05:22:18.718151",
     "exception": false,
     "start_time": "2025-01-21T05:22:18.698291",
     "status": "completed"
    },
    "tags": []
   },
   "outputs": [
    {
     "data": {
      "text/plain": [
       "(2054, 11)"
      ]
     },
     "execution_count": 8,
     "metadata": {},
     "output_type": "execute_result"
    }
   ],
   "source": [
    "data.shape"
   ]
  },
  {
   "cell_type": "markdown",
   "id": "09fab6cd",
   "metadata": {
    "papermill": {
     "duration": 0.011451,
     "end_time": "2025-01-21T05:22:18.741920",
     "exception": false,
     "start_time": "2025-01-21T05:22:18.730469",
     "status": "completed"
    },
    "tags": []
   },
   "source": [
    "# Data Cleaning"
   ]
  },
  {
   "cell_type": "code",
   "execution_count": 9,
   "id": "749ff835",
   "metadata": {
    "execution": {
     "iopub.execute_input": "2025-01-21T05:22:18.766563Z",
     "iopub.status.busy": "2025-01-21T05:22:18.766197Z",
     "iopub.status.idle": "2025-01-21T05:22:18.776603Z",
     "shell.execute_reply": "2025-01-21T05:22:18.775589Z"
    },
    "papermill": {
     "duration": 0.025319,
     "end_time": "2025-01-21T05:22:18.778540",
     "exception": false,
     "start_time": "2025-01-21T05:22:18.753221",
     "status": "completed"
    },
    "tags": []
   },
   "outputs": [
    {
     "name": "stdout",
     "output_type": "stream",
     "text": [
      "\n",
      "Numerical columns:\n",
      "Age\n",
      "Work Pressure\n",
      "Job Satisfaction\n",
      "Work Hours\n",
      "Financial Stress\n",
      "\n",
      "Categorical columns:\n",
      "Gender\n",
      "Sleep Duration\n",
      "Dietary Habits\n",
      "Have you ever had suicidal thoughts ?\n",
      "Family History of Mental Illness\n",
      "Depression\n"
     ]
    }
   ],
   "source": [
    "# Identify numerical and categorical columns for further processing\n",
    "\n",
    "numerical_cols = data.select_dtypes(include=['int64', 'float64']).columns\n",
    "categorical_cols = data.select_dtypes(include=['object']).columns\n",
    "\n",
    "print(\"\\nNumerical columns:\")\n",
    "for col in numerical_cols:\n",
    "    print(col)\n",
    "\n",
    "print(\"\\nCategorical columns:\")\n",
    "for col in categorical_cols:\n",
    "    print(col)"
   ]
  },
  {
   "cell_type": "code",
   "execution_count": 10,
   "id": "db9f7e07",
   "metadata": {
    "execution": {
     "iopub.execute_input": "2025-01-21T05:22:18.803879Z",
     "iopub.status.busy": "2025-01-21T05:22:18.803533Z",
     "iopub.status.idle": "2025-01-21T05:22:18.812571Z",
     "shell.execute_reply": "2025-01-21T05:22:18.811469Z"
    },
    "papermill": {
     "duration": 0.023608,
     "end_time": "2025-01-21T05:22:18.814198",
     "exception": false,
     "start_time": "2025-01-21T05:22:18.790590",
     "status": "completed"
    },
    "tags": []
   },
   "outputs": [
    {
     "name": "stdout",
     "output_type": "stream",
     "text": [
      "\n",
      "Unique values in column 'Age':\n",
      "43\n",
      "\n",
      "Unique values in column 'Work Pressure':\n",
      "5\n",
      "\n",
      "Unique values in column 'Job Satisfaction':\n",
      "5\n",
      "\n",
      "Unique values in column 'Work Hours':\n",
      "13\n",
      "\n",
      "Unique values in column 'Financial Stress':\n",
      "5\n"
     ]
    }
   ],
   "source": [
    "# identify unique values in columns\n",
    "\n",
    "for col in numerical_cols:\n",
    "    unique_values = data[col].nunique()\n",
    "    print(f\"\\nUnique values in column '{col}':\")\n",
    "    print(unique_values)"
   ]
  },
  {
   "cell_type": "code",
   "execution_count": 11,
   "id": "ebb29366",
   "metadata": {
    "execution": {
     "iopub.execute_input": "2025-01-21T05:22:18.839518Z",
     "iopub.status.busy": "2025-01-21T05:22:18.839151Z",
     "iopub.status.idle": "2025-01-21T05:22:18.847169Z",
     "shell.execute_reply": "2025-01-21T05:22:18.846165Z"
    },
    "papermill": {
     "duration": 0.02314,
     "end_time": "2025-01-21T05:22:18.848936",
     "exception": false,
     "start_time": "2025-01-21T05:22:18.825796",
     "status": "completed"
    },
    "tags": []
   },
   "outputs": [
    {
     "name": "stdout",
     "output_type": "stream",
     "text": [
      "\n",
      "Unique values in Age: [37 60 42 44 48 30 56 35 21 57 54 51 18 31 58 47 50 46 38 45 53 49 43 22\n",
      " 28 36 20 19 33 41 27 52 26 34 59 55 25 40 24 39 23 29 32]\n",
      "\n",
      "Unique values in Work Pressure: [2. 4. 3. 1. 5.]\n",
      "\n",
      "Unique values in Job Satisfaction: [4. 3. 5. 2. 1.]\n",
      "\n",
      "Unique values in Work Hours: [ 6  0  1 12  3 11 10  8  7  9  5  2  4]\n",
      "\n",
      "Unique values in Financial Stress: [2 4 5 3 1]\n"
     ]
    }
   ],
   "source": [
    "# Insight into the unique values\n",
    "\n",
    "for col in numerical_cols:\n",
    "    unique_values = data[col].unique()\n",
    "    print(f\"\\nUnique values in {col}: {unique_values}\")"
   ]
  },
  {
   "cell_type": "code",
   "execution_count": 12,
   "id": "df605231",
   "metadata": {
    "execution": {
     "iopub.execute_input": "2025-01-21T05:22:18.873498Z",
     "iopub.status.busy": "2025-01-21T05:22:18.873170Z",
     "iopub.status.idle": "2025-01-21T05:22:18.893176Z",
     "shell.execute_reply": "2025-01-21T05:22:18.892102Z"
    },
    "papermill": {
     "duration": 0.033921,
     "end_time": "2025-01-21T05:22:18.894836",
     "exception": false,
     "start_time": "2025-01-21T05:22:18.860915",
     "status": "completed"
    },
    "tags": []
   },
   "outputs": [
    {
     "data": {
      "text/html": [
       "<div>\n",
       "<style scoped>\n",
       "    .dataframe tbody tr th:only-of-type {\n",
       "        vertical-align: middle;\n",
       "    }\n",
       "\n",
       "    .dataframe tbody tr th {\n",
       "        vertical-align: top;\n",
       "    }\n",
       "\n",
       "    .dataframe thead th {\n",
       "        text-align: right;\n",
       "    }\n",
       "</style>\n",
       "<table border=\"1\" class=\"dataframe\">\n",
       "  <thead>\n",
       "    <tr style=\"text-align: right;\">\n",
       "      <th></th>\n",
       "      <th>Gender</th>\n",
       "      <th>Age</th>\n",
       "      <th>Work Pressure</th>\n",
       "      <th>Job Satisfaction</th>\n",
       "      <th>Sleep Duration</th>\n",
       "      <th>Dietary Habits</th>\n",
       "      <th>Have you ever had suicidal thoughts ?</th>\n",
       "      <th>Work Hours</th>\n",
       "      <th>Financial Stress</th>\n",
       "      <th>Family History of Mental Illness</th>\n",
       "      <th>Depression</th>\n",
       "    </tr>\n",
       "  </thead>\n",
       "  <tbody>\n",
       "    <tr>\n",
       "      <th>1</th>\n",
       "      <td>Male</td>\n",
       "      <td>60</td>\n",
       "      <td>4.0</td>\n",
       "      <td>3.0</td>\n",
       "      <td>5-6 hours</td>\n",
       "      <td>Unhealthy</td>\n",
       "      <td>Yes</td>\n",
       "      <td>0</td>\n",
       "      <td>4</td>\n",
       "      <td>Yes</td>\n",
       "      <td>No</td>\n",
       "    </tr>\n",
       "    <tr>\n",
       "      <th>2</th>\n",
       "      <td>Female</td>\n",
       "      <td>42</td>\n",
       "      <td>2.0</td>\n",
       "      <td>3.0</td>\n",
       "      <td>5-6 hours</td>\n",
       "      <td>Moderate</td>\n",
       "      <td>No</td>\n",
       "      <td>0</td>\n",
       "      <td>2</td>\n",
       "      <td>No</td>\n",
       "      <td>No</td>\n",
       "    </tr>\n",
       "    <tr>\n",
       "      <th>37</th>\n",
       "      <td>Male</td>\n",
       "      <td>43</td>\n",
       "      <td>1.0</td>\n",
       "      <td>2.0</td>\n",
       "      <td>5-6 hours</td>\n",
       "      <td>Moderate</td>\n",
       "      <td>No</td>\n",
       "      <td>0</td>\n",
       "      <td>5</td>\n",
       "      <td>No</td>\n",
       "      <td>No</td>\n",
       "    </tr>\n",
       "    <tr>\n",
       "      <th>52</th>\n",
       "      <td>Male</td>\n",
       "      <td>45</td>\n",
       "      <td>5.0</td>\n",
       "      <td>1.0</td>\n",
       "      <td>7-8 hours</td>\n",
       "      <td>Moderate</td>\n",
       "      <td>Yes</td>\n",
       "      <td>0</td>\n",
       "      <td>1</td>\n",
       "      <td>Yes</td>\n",
       "      <td>No</td>\n",
       "    </tr>\n",
       "    <tr>\n",
       "      <th>68</th>\n",
       "      <td>Male</td>\n",
       "      <td>30</td>\n",
       "      <td>4.0</td>\n",
       "      <td>1.0</td>\n",
       "      <td>More than 8 hours</td>\n",
       "      <td>Unhealthy</td>\n",
       "      <td>Yes</td>\n",
       "      <td>0</td>\n",
       "      <td>5</td>\n",
       "      <td>No</td>\n",
       "      <td>Yes</td>\n",
       "    </tr>\n",
       "    <tr>\n",
       "      <th>...</th>\n",
       "      <td>...</td>\n",
       "      <td>...</td>\n",
       "      <td>...</td>\n",
       "      <td>...</td>\n",
       "      <td>...</td>\n",
       "      <td>...</td>\n",
       "      <td>...</td>\n",
       "      <td>...</td>\n",
       "      <td>...</td>\n",
       "      <td>...</td>\n",
       "      <td>...</td>\n",
       "    </tr>\n",
       "    <tr>\n",
       "      <th>2003</th>\n",
       "      <td>Male</td>\n",
       "      <td>27</td>\n",
       "      <td>1.0</td>\n",
       "      <td>5.0</td>\n",
       "      <td>More than 8 hours</td>\n",
       "      <td>Moderate</td>\n",
       "      <td>Yes</td>\n",
       "      <td>0</td>\n",
       "      <td>1</td>\n",
       "      <td>No</td>\n",
       "      <td>No</td>\n",
       "    </tr>\n",
       "    <tr>\n",
       "      <th>2007</th>\n",
       "      <td>Male</td>\n",
       "      <td>33</td>\n",
       "      <td>1.0</td>\n",
       "      <td>4.0</td>\n",
       "      <td>7-8 hours</td>\n",
       "      <td>Moderate</td>\n",
       "      <td>No</td>\n",
       "      <td>0</td>\n",
       "      <td>5</td>\n",
       "      <td>No</td>\n",
       "      <td>No</td>\n",
       "    </tr>\n",
       "    <tr>\n",
       "      <th>2023</th>\n",
       "      <td>Male</td>\n",
       "      <td>54</td>\n",
       "      <td>1.0</td>\n",
       "      <td>3.0</td>\n",
       "      <td>5-6 hours</td>\n",
       "      <td>Moderate</td>\n",
       "      <td>No</td>\n",
       "      <td>0</td>\n",
       "      <td>2</td>\n",
       "      <td>No</td>\n",
       "      <td>No</td>\n",
       "    </tr>\n",
       "    <tr>\n",
       "      <th>2030</th>\n",
       "      <td>Female</td>\n",
       "      <td>49</td>\n",
       "      <td>3.0</td>\n",
       "      <td>2.0</td>\n",
       "      <td>5-6 hours</td>\n",
       "      <td>Moderate</td>\n",
       "      <td>No</td>\n",
       "      <td>0</td>\n",
       "      <td>1</td>\n",
       "      <td>No</td>\n",
       "      <td>No</td>\n",
       "    </tr>\n",
       "    <tr>\n",
       "      <th>2034</th>\n",
       "      <td>Female</td>\n",
       "      <td>42</td>\n",
       "      <td>2.0</td>\n",
       "      <td>3.0</td>\n",
       "      <td>Less than 5 hours</td>\n",
       "      <td>Moderate</td>\n",
       "      <td>No</td>\n",
       "      <td>0</td>\n",
       "      <td>4</td>\n",
       "      <td>No</td>\n",
       "      <td>No</td>\n",
       "    </tr>\n",
       "  </tbody>\n",
       "</table>\n",
       "<p>170 rows × 11 columns</p>\n",
       "</div>"
      ],
      "text/plain": [
       "      Gender  Age  Work Pressure  Job Satisfaction     Sleep Duration  \\\n",
       "1       Male   60            4.0               3.0          5-6 hours   \n",
       "2     Female   42            2.0               3.0          5-6 hours   \n",
       "37      Male   43            1.0               2.0          5-6 hours   \n",
       "52      Male   45            5.0               1.0          7-8 hours   \n",
       "68      Male   30            4.0               1.0  More than 8 hours   \n",
       "...      ...  ...            ...               ...                ...   \n",
       "2003    Male   27            1.0               5.0  More than 8 hours   \n",
       "2007    Male   33            1.0               4.0          7-8 hours   \n",
       "2023    Male   54            1.0               3.0          5-6 hours   \n",
       "2030  Female   49            3.0               2.0          5-6 hours   \n",
       "2034  Female   42            2.0               3.0  Less than 5 hours   \n",
       "\n",
       "     Dietary Habits Have you ever had suicidal thoughts ?  Work Hours  \\\n",
       "1         Unhealthy                                   Yes           0   \n",
       "2          Moderate                                    No           0   \n",
       "37         Moderate                                    No           0   \n",
       "52         Moderate                                   Yes           0   \n",
       "68        Unhealthy                                   Yes           0   \n",
       "...             ...                                   ...         ...   \n",
       "2003       Moderate                                   Yes           0   \n",
       "2007       Moderate                                    No           0   \n",
       "2023       Moderate                                    No           0   \n",
       "2030       Moderate                                    No           0   \n",
       "2034       Moderate                                    No           0   \n",
       "\n",
       "      Financial Stress Family History of Mental Illness Depression  \n",
       "1                    4                              Yes         No  \n",
       "2                    2                               No         No  \n",
       "37                   5                               No         No  \n",
       "52                   1                              Yes         No  \n",
       "68                   5                               No        Yes  \n",
       "...                ...                              ...        ...  \n",
       "2003                 1                               No         No  \n",
       "2007                 5                               No         No  \n",
       "2023                 2                               No         No  \n",
       "2030                 1                               No         No  \n",
       "2034                 4                               No         No  \n",
       "\n",
       "[170 rows x 11 columns]"
      ]
     },
     "execution_count": 12,
     "metadata": {},
     "output_type": "execute_result"
    }
   ],
   "source": [
    "# Investigating Edge cases- 0 Work Hour rows information\n",
    "\n",
    "zero_rows = data[data['Work Hours'] == 0]\n",
    "zero_rows"
   ]
  },
  {
   "cell_type": "code",
   "execution_count": 13,
   "id": "56f90dfd",
   "metadata": {
    "execution": {
     "iopub.execute_input": "2025-01-21T05:22:18.921674Z",
     "iopub.status.busy": "2025-01-21T05:22:18.921302Z",
     "iopub.status.idle": "2025-01-21T05:22:18.935219Z",
     "shell.execute_reply": "2025-01-21T05:22:18.933963Z"
    },
    "papermill": {
     "duration": 0.029819,
     "end_time": "2025-01-21T05:22:18.937118",
     "exception": false,
     "start_time": "2025-01-21T05:22:18.907299",
     "status": "completed"
    },
    "tags": []
   },
   "outputs": [
    {
     "name": "stdout",
     "output_type": "stream",
     "text": [
      "      Gender  Age  Work Pressure  Job Satisfaction  Work Hours\n",
      "1       Male   60            4.0               3.0           0\n",
      "2     Female   42            2.0               3.0           0\n",
      "37      Male   43            1.0               2.0           0\n",
      "52      Male   45            5.0               1.0           0\n",
      "68      Male   30            4.0               1.0           0\n",
      "...      ...  ...            ...               ...         ...\n",
      "2003    Male   27            1.0               5.0           0\n",
      "2007    Male   33            1.0               4.0           0\n",
      "2023    Male   54            1.0               3.0           0\n",
      "2030  Female   49            3.0               2.0           0\n",
      "2034  Female   42            2.0               3.0           0\n",
      "\n",
      "[170 rows x 5 columns]\n"
     ]
    }
   ],
   "source": [
    "# 170 rows have 0 Work Hours but have Work Pressure > 0 and job satisfaction > 0. \n",
    "#-> NOT Practically Feasible cases to be removed\n",
    "\n",
    "data_zero_rows = data[(data['Work Hours'] == 0) & (data['Work Pressure'] > 0) & (data['Job Satisfaction'] > 0)]\n",
    "print(data_zero_rows[['Gender','Age','Work Pressure','Job Satisfaction','Work Hours']])"
   ]
  },
  {
   "cell_type": "code",
   "execution_count": 14,
   "id": "af15bdf1",
   "metadata": {
    "execution": {
     "iopub.execute_input": "2025-01-21T05:22:18.963988Z",
     "iopub.status.busy": "2025-01-21T05:22:18.963595Z",
     "iopub.status.idle": "2025-01-21T05:22:18.972953Z",
     "shell.execute_reply": "2025-01-21T05:22:18.971693Z"
    },
    "papermill": {
     "duration": 0.025155,
     "end_time": "2025-01-21T05:22:18.974947",
     "exception": false,
     "start_time": "2025-01-21T05:22:18.949792",
     "status": "completed"
    },
    "tags": []
   },
   "outputs": [
    {
     "name": "stdout",
     "output_type": "stream",
     "text": [
      "Rows removed: 170\n"
     ]
    }
   ],
   "source": [
    "# To avoid assumption, these rows will be removed\n",
    "\n",
    "data_zero_remove = data[(data['Work Hours'] == 0) & (data['Work Pressure'] > 0) & (data['Job Satisfaction'] > 0)].index\n",
    "\n",
    "# Created a new dataframe to remove rows\n",
    "data_new = data.copy()\n",
    "data_new.drop(data_zero_remove, inplace=True)\n",
    "print(\"Rows removed:\" , len(data_zero_remove))"
   ]
  },
  {
   "cell_type": "code",
   "execution_count": 15,
   "id": "affc9f00",
   "metadata": {
    "execution": {
     "iopub.execute_input": "2025-01-21T05:22:19.001708Z",
     "iopub.status.busy": "2025-01-21T05:22:19.001165Z",
     "iopub.status.idle": "2025-01-21T05:22:19.008474Z",
     "shell.execute_reply": "2025-01-21T05:22:19.007002Z"
    },
    "papermill": {
     "duration": 0.022801,
     "end_time": "2025-01-21T05:22:19.010108",
     "exception": false,
     "start_time": "2025-01-21T05:22:18.987307",
     "status": "completed"
    },
    "tags": []
   },
   "outputs": [
    {
     "name": "stdout",
     "output_type": "stream",
     "text": [
      "\n",
      "Categorical columns:\n",
      "Gender\n",
      "Sleep Duration\n",
      "Dietary Habits\n",
      "Have you ever had suicidal thoughts ?\n",
      "Family History of Mental Illness\n",
      "Depression\n"
     ]
    }
   ],
   "source": [
    "categorical_columns = data_new.select_dtypes(include=['object']).columns\n",
    "\n",
    "print(\"\\nCategorical columns:\")\n",
    "for col in categorical_columns:\n",
    "    print(col)"
   ]
  },
  {
   "cell_type": "code",
   "execution_count": 16,
   "id": "ef44908f",
   "metadata": {
    "execution": {
     "iopub.execute_input": "2025-01-21T05:22:19.036225Z",
     "iopub.status.busy": "2025-01-21T05:22:19.035836Z",
     "iopub.status.idle": "2025-01-21T05:22:19.051171Z",
     "shell.execute_reply": "2025-01-21T05:22:19.049927Z"
    },
    "papermill": {
     "duration": 0.030489,
     "end_time": "2025-01-21T05:22:19.052905",
     "exception": false,
     "start_time": "2025-01-21T05:22:19.022416",
     "status": "completed"
    },
    "tags": []
   },
   "outputs": [
    {
     "name": "stdout",
     "output_type": "stream",
     "text": [
      "\n",
      "Unique values in column 'Gender':\n",
      "2\n",
      "\n",
      "Unique values in column 'Sleep Duration':\n",
      "4\n",
      "\n",
      "Unique values in column 'Dietary Habits':\n",
      "3\n",
      "\n",
      "Unique values in column 'Have you ever had suicidal thoughts ?':\n",
      "2\n",
      "\n",
      "Unique values in column 'Family History of Mental Illness':\n",
      "2\n",
      "\n",
      "Unique values in column 'Depression':\n",
      "2\n",
      "\n",
      "Unique values in Gender: ['Female' 'Male']\n",
      "\n",
      "Unique values in Sleep Duration: ['7-8 hours' 'More than 8 hours' 'Less than 5 hours' '5-6 hours']\n",
      "\n",
      "Unique values in Dietary Habits: ['Moderate' 'Healthy' 'Unhealthy']\n",
      "\n",
      "Unique values in Have you ever had suicidal thoughts ?: ['No' 'Yes']\n",
      "\n",
      "Unique values in Family History of Mental Illness: ['No' 'Yes']\n",
      "\n",
      "Unique values in Depression: ['No' 'Yes']\n"
     ]
    }
   ],
   "source": [
    "# Identify unique values in categorical columns\n",
    "\n",
    "for col in categorical_columns:\n",
    "    unique_values = data_new[col].nunique()\n",
    "    print(f\"\\nUnique values in column '{col}':\")\n",
    "    print(unique_values)\n",
    "\n",
    "for col in categorical_columns:\n",
    "    unique_values = data_new[col].unique()\n",
    "    print(f\"\\nUnique values in {col}: {unique_values}\")"
   ]
  },
  {
   "cell_type": "markdown",
   "id": "a726f81d",
   "metadata": {
    "papermill": {
     "duration": 0.012014,
     "end_time": "2025-01-21T05:22:19.077567",
     "exception": false,
     "start_time": "2025-01-21T05:22:19.065553",
     "status": "completed"
    },
    "tags": []
   },
   "source": [
    "# Exploratory Data Analysis"
   ]
  },
  {
   "cell_type": "markdown",
   "id": "6f3686e4",
   "metadata": {
    "papermill": {
     "duration": 0.013337,
     "end_time": "2025-01-21T05:22:19.103930",
     "exception": false,
     "start_time": "2025-01-21T05:22:19.090593",
     "status": "completed"
    },
    "tags": []
   },
   "source": [
    "# Depression Pie Chart"
   ]
  },
  {
   "cell_type": "code",
   "execution_count": 17,
   "id": "34951d36",
   "metadata": {
    "execution": {
     "iopub.execute_input": "2025-01-21T05:22:19.130005Z",
     "iopub.status.busy": "2025-01-21T05:22:19.129640Z",
     "iopub.status.idle": "2025-01-21T05:22:19.565036Z",
     "shell.execute_reply": "2025-01-21T05:22:19.563359Z"
    },
    "papermill": {
     "duration": 0.450224,
     "end_time": "2025-01-21T05:22:19.566716",
     "exception": true,
     "start_time": "2025-01-21T05:22:19.116492",
     "status": "failed"
    },
    "tags": []
   },
   "outputs": [
    {
     "ename": "NameError",
     "evalue": "name 'plt' is not defined",
     "output_type": "error",
     "traceback": [
      "\u001b[0;31m---------------------------------------------------------------------------\u001b[0m",
      "\u001b[0;31mNameError\u001b[0m                                 Traceback (most recent call last)",
      "\u001b[0;32m<ipython-input-17-55d1c80a5a93>\u001b[0m in \u001b[0;36m<cell line: 5>\u001b[0;34m()\u001b[0m\n\u001b[1;32m      3\u001b[0m \u001b[0mcolors\u001b[0m \u001b[0;34m=\u001b[0m \u001b[0;34m[\u001b[0m\u001b[0;34m'#73afbb'\u001b[0m\u001b[0;34m,\u001b[0m \u001b[0;34m'#979d9e'\u001b[0m\u001b[0;34m]\u001b[0m\u001b[0;34m\u001b[0m\u001b[0;34m\u001b[0m\u001b[0m\n\u001b[1;32m      4\u001b[0m \u001b[0;34m\u001b[0m\u001b[0m\n\u001b[0;32m----> 5\u001b[0;31m \u001b[0mplt\u001b[0m\u001b[0;34m.\u001b[0m\u001b[0mfigure\u001b[0m\u001b[0;34m(\u001b[0m\u001b[0mfigsize\u001b[0m\u001b[0;34m=\u001b[0m\u001b[0;34m(\u001b[0m\u001b[0;36m6\u001b[0m\u001b[0;34m,\u001b[0m \u001b[0;36m6\u001b[0m\u001b[0;34m)\u001b[0m\u001b[0;34m)\u001b[0m\u001b[0;34m\u001b[0m\u001b[0;34m\u001b[0m\u001b[0m\n\u001b[0m\u001b[1;32m      6\u001b[0m plt.pie(depression_counts, \n\u001b[1;32m      7\u001b[0m         \u001b[0mlabels\u001b[0m\u001b[0;34m=\u001b[0m\u001b[0mdepression_counts\u001b[0m\u001b[0;34m.\u001b[0m\u001b[0mindex\u001b[0m\u001b[0;34m,\u001b[0m\u001b[0;34m\u001b[0m\u001b[0;34m\u001b[0m\u001b[0m\n",
      "\u001b[0;31mNameError\u001b[0m: name 'plt' is not defined"
     ]
    }
   ],
   "source": [
    "depression_counts = data_new['Depression'].value_counts()\n",
    "\n",
    "colors = ['#73afbb', '#979d9e']\n",
    "\n",
    "plt.figure(figsize=(6, 6))\n",
    "plt.pie(depression_counts, \n",
    "        labels=depression_counts.index, \n",
    "        autopct='%1.1f%%', \n",
    "        startangle=140, \n",
    "        colors=colors, \n",
    "        shadow=True, \n",
    "        explode=[0.1] * len(depression_counts),  \n",
    "        wedgeprops={'edgecolor': 'black'})  \n",
    "\n",
    "plt.title('Depression Distribution')\n",
    "\n",
    "plt.show()"
   ]
  },
  {
   "cell_type": "markdown",
   "id": "2febbfba",
   "metadata": {
    "papermill": {
     "duration": null,
     "end_time": null,
     "exception": null,
     "start_time": null,
     "status": "pending"
    },
    "tags": []
   },
   "source": [
    "# Gender VS Depression"
   ]
  },
  {
   "cell_type": "code",
   "execution_count": null,
   "id": "3c820df7",
   "metadata": {
    "execution": {
     "iopub.execute_input": "2025-01-21T04:47:24.276141Z",
     "iopub.status.busy": "2025-01-21T04:47:24.275776Z",
     "iopub.status.idle": "2025-01-21T04:47:24.456475Z",
     "shell.execute_reply": "2025-01-21T04:47:24.455299Z",
     "shell.execute_reply.started": "2025-01-21T04:47:24.276113Z"
    },
    "papermill": {
     "duration": null,
     "end_time": null,
     "exception": null,
     "start_time": null,
     "status": "pending"
    },
    "tags": []
   },
   "outputs": [],
   "source": [
    "sns.countplot(data=data_new, x='Gender', hue='Depression')\n",
    "plt.title('Gender vs Depression')\n",
    "plt.show()"
   ]
  },
  {
   "cell_type": "markdown",
   "id": "273c23cf",
   "metadata": {
    "papermill": {
     "duration": null,
     "end_time": null,
     "exception": null,
     "start_time": null,
     "status": "pending"
    },
    "tags": []
   },
   "source": [
    "# Depression distribution over Age"
   ]
  },
  {
   "cell_type": "code",
   "execution_count": null,
   "id": "8f36313f",
   "metadata": {
    "execution": {
     "iopub.execute_input": "2025-01-21T04:47:15.583895Z",
     "iopub.status.busy": "2025-01-21T04:47:15.583551Z",
     "iopub.status.idle": "2025-01-21T04:47:15.943572Z",
     "shell.execute_reply": "2025-01-21T04:47:15.942548Z",
     "shell.execute_reply.started": "2025-01-21T04:47:15.583868Z"
    },
    "papermill": {
     "duration": null,
     "end_time": null,
     "exception": null,
     "start_time": null,
     "status": "pending"
    },
    "tags": []
   },
   "outputs": [],
   "source": [
    "sns.histplot(data_new, x=\"Age\", hue=\"Depression\", multiple=\"dodge\", kde=True)\n",
    "plt.title(\"Depression over age\")\n",
    "plt.tight_layout()\n",
    "plt.show()"
   ]
  },
  {
   "cell_type": "markdown",
   "id": "55a095b2",
   "metadata": {
    "papermill": {
     "duration": null,
     "end_time": null,
     "exception": null,
     "start_time": null,
     "status": "pending"
    },
    "tags": []
   },
   "source": [
    "# Thought process over Age"
   ]
  },
  {
   "cell_type": "code",
   "execution_count": null,
   "id": "99d63485",
   "metadata": {
    "execution": {
     "iopub.execute_input": "2025-01-21T04:47:04.545501Z",
     "iopub.status.busy": "2025-01-21T04:47:04.545101Z",
     "iopub.status.idle": "2025-01-21T04:47:04.923921Z",
     "shell.execute_reply": "2025-01-21T04:47:04.922711Z",
     "shell.execute_reply.started": "2025-01-21T04:47:04.545469Z"
    },
    "papermill": {
     "duration": null,
     "end_time": null,
     "exception": null,
     "start_time": null,
     "status": "pending"
    },
    "tags": []
   },
   "outputs": [],
   "source": [
    "sns.histplot(data_new, x=\"Age\", hue=\"Have you ever had suicidal thoughts ?\", multiple=\"dodge\", kde=True)\n",
    "plt.title(\"Sucidial thoughts over age\")\n",
    "plt.tight_layout()\n",
    "plt.show()"
   ]
  },
  {
   "cell_type": "code",
   "execution_count": null,
   "id": "e0fce3e3",
   "metadata": {
    "execution": {
     "iopub.execute_input": "2025-01-21T04:46:52.325581Z",
     "iopub.status.busy": "2025-01-21T04:46:52.325085Z",
     "iopub.status.idle": "2025-01-21T04:46:52.769558Z",
     "shell.execute_reply": "2025-01-21T04:46:52.768525Z",
     "shell.execute_reply.started": "2025-01-21T04:46:52.325541Z"
    },
    "papermill": {
     "duration": null,
     "end_time": null,
     "exception": null,
     "start_time": null,
     "status": "pending"
    },
    "tags": []
   },
   "outputs": [],
   "source": [
    "fig, axes = plt.subplots(1, 2, figsize=(8, 4))\n",
    "sns.boxplot(data=data_new, x=\"Depression\", y=\"Work Hours\", ax=axes[0])\n",
    "axes[0].set_title('Work Hours vs Depression')\n",
    "\n",
    "sns.boxplot(data=data_new, x=\"Depression\", y=\"Financial Stress\", ax=axes[1])\n",
    "axes[1].set_title('Financial Stress vs Depression')\n",
    "\n",
    "plt.tight_layout()\n",
    "plt.show()"
   ]
  },
  {
   "cell_type": "code",
   "execution_count": null,
   "id": "f4e362b3",
   "metadata": {
    "execution": {
     "iopub.execute_input": "2025-01-21T04:49:36.452732Z",
     "iopub.status.busy": "2025-01-21T04:49:36.452394Z",
     "iopub.status.idle": "2025-01-21T04:49:36.472964Z",
     "shell.execute_reply": "2025-01-21T04:49:36.471836Z",
     "shell.execute_reply.started": "2025-01-21T04:49:36.452705Z"
    },
    "papermill": {
     "duration": null,
     "end_time": null,
     "exception": null,
     "start_time": null,
     "status": "pending"
    },
    "tags": []
   },
   "outputs": [],
   "source": [
    "le=LabelEncoder()\n",
    "for cols in data_new.select_dtypes('object'):\n",
    "    data_new[cols]=le.fit_transform(data_new[cols])\n",
    "\n",
    "data_new.head()"
   ]
  },
  {
   "cell_type": "code",
   "execution_count": null,
   "id": "a4eec048",
   "metadata": {
    "execution": {
     "iopub.execute_input": "2025-01-21T04:50:28.360627Z",
     "iopub.status.busy": "2025-01-21T04:50:28.360180Z",
     "iopub.status.idle": "2025-01-21T04:50:29.158277Z",
     "shell.execute_reply": "2025-01-21T04:50:29.157037Z",
     "shell.execute_reply.started": "2025-01-21T04:50:28.360598Z"
    },
    "papermill": {
     "duration": null,
     "end_time": null,
     "exception": null,
     "start_time": null,
     "status": "pending"
    },
    "tags": []
   },
   "outputs": [],
   "source": [
    "plt.figure(figsize=(20,10))\n",
    "sns.heatmap(data_new.corr(),annot=True,cmap=\"Blues\")"
   ]
  },
  {
   "cell_type": "code",
   "execution_count": null,
   "id": "1d2388fa",
   "metadata": {
    "execution": {
     "iopub.execute_input": "2025-01-21T04:48:24.259916Z",
     "iopub.status.busy": "2025-01-21T04:48:24.259506Z",
     "iopub.status.idle": "2025-01-21T04:48:24.267800Z",
     "shell.execute_reply": "2025-01-21T04:48:24.266713Z",
     "shell.execute_reply.started": "2025-01-21T04:48:24.259884Z"
    },
    "papermill": {
     "duration": null,
     "end_time": null,
     "exception": null,
     "start_time": null,
     "status": "pending"
    },
    "tags": []
   },
   "outputs": [],
   "source": [
    "# #creates a new Series y containing the values from the 'Outcome' column of the DataFrame data\n",
    "\n",
    "# y = data_new['Depression']\n",
    "# y.head()"
   ]
  },
  {
   "cell_type": "code",
   "execution_count": null,
   "id": "4ce3a101",
   "metadata": {
    "_kg_hide-input": false,
    "execution": {
     "iopub.execute_input": "2025-01-21T03:42:34.263668Z",
     "iopub.status.busy": "2025-01-21T03:42:34.263228Z",
     "iopub.status.idle": "2025-01-21T03:42:34.272987Z",
     "shell.execute_reply": "2025-01-21T03:42:34.271910Z",
     "shell.execute_reply.started": "2025-01-21T03:42:34.263635Z"
    },
    "papermill": {
     "duration": null,
     "end_time": null,
     "exception": null,
     "start_time": null,
     "status": "pending"
    },
    "tags": []
   },
   "outputs": [],
   "source": [
    "#return a count of unique values in the 'Outcome' column of the DataFrame data\n",
    "\n",
    "data['Depression'].value_counts()"
   ]
  },
  {
   "cell_type": "code",
   "execution_count": null,
   "id": "d182408d",
   "metadata": {
    "execution": {
     "iopub.execute_input": "2025-01-21T03:56:16.967261Z",
     "iopub.status.busy": "2025-01-21T03:56:16.966758Z",
     "iopub.status.idle": "2025-01-21T03:56:16.972527Z",
     "shell.execute_reply": "2025-01-21T03:56:16.971369Z",
     "shell.execute_reply.started": "2025-01-21T03:56:16.967203Z"
    },
    "papermill": {
     "duration": null,
     "end_time": null,
     "exception": null,
     "start_time": null,
     "status": "pending"
    },
    "tags": []
   },
   "outputs": [],
   "source": [
    "# # Data Preprocessing\n",
    "# # Identify categorical and numerical columns\n",
    "# categorical_cols = ['Gender', 'Sleep Duration', 'Dietary Habits', 'Have you ever had suicidal thoughts ?', 'Family History of Mental Illness']\n",
    "# numerical_cols = ['Age', 'Work Pressure', 'Job Satisfaction', 'Work Hours', 'Financial Stress']\n"
   ]
  },
  {
   "cell_type": "code",
   "execution_count": null,
   "id": "c407fa4a",
   "metadata": {
    "execution": {
     "iopub.execute_input": "2025-01-21T03:56:33.427478Z",
     "iopub.status.busy": "2025-01-21T03:56:33.427081Z",
     "iopub.status.idle": "2025-01-21T03:56:33.440644Z",
     "shell.execute_reply": "2025-01-21T03:56:33.439679Z",
     "shell.execute_reply.started": "2025-01-21T03:56:33.427448Z"
    },
    "papermill": {
     "duration": null,
     "end_time": null,
     "exception": null,
     "start_time": null,
     "status": "pending"
    },
    "tags": []
   },
   "outputs": [],
   "source": [
    "# # For categorical columns, replace missing values with the most frequent value\n",
    "# imputer_cat = SimpleImputer(strategy='most_frequent')\n",
    "# data[categorical_cols] = imputer_cat.fit_transform(data[categorical_cols])"
   ]
  },
  {
   "cell_type": "code",
   "execution_count": null,
   "id": "ca469dc5",
   "metadata": {
    "execution": {
     "iopub.execute_input": "2025-01-21T04:04:08.788053Z",
     "iopub.status.busy": "2025-01-21T04:04:08.787604Z",
     "iopub.status.idle": "2025-01-21T04:04:08.807864Z",
     "shell.execute_reply": "2025-01-21T04:04:08.806583Z",
     "shell.execute_reply.started": "2025-01-21T04:04:08.788020Z"
    },
    "papermill": {
     "duration": null,
     "end_time": null,
     "exception": null,
     "start_time": null,
     "status": "pending"
    },
    "tags": []
   },
   "outputs": [],
   "source": [
    "# # Encode categorical variables\n",
    "# label_encoders = {}\n",
    "# for col in categorical_cols:\n",
    "#     le = LabelEncoder()\n",
    "#     data[col] = le.fit_transform(data[col])\n",
    "#     label_encoders[col] = le\n",
    "\n",
    "# data.head()"
   ]
  },
  {
   "cell_type": "markdown",
   "id": "b8126e4c",
   "metadata": {
    "papermill": {
     "duration": null,
     "end_time": null,
     "exception": null,
     "start_time": null,
     "status": "pending"
    },
    "tags": []
   },
   "source": [
    "# ML Modeling"
   ]
  },
  {
   "cell_type": "markdown",
   "id": "a4d6818b",
   "metadata": {
    "papermill": {
     "duration": null,
     "end_time": null,
     "exception": null,
     "start_time": null,
     "status": "pending"
    },
    "tags": []
   },
   "source": [
    "# 1. Random Forest Classifier"
   ]
  },
  {
   "cell_type": "code",
   "execution_count": null,
   "id": "1757ae80",
   "metadata": {
    "execution": {
     "iopub.execute_input": "2025-01-21T04:54:46.129898Z",
     "iopub.status.busy": "2025-01-21T04:54:46.129382Z",
     "iopub.status.idle": "2025-01-21T04:54:46.144438Z",
     "shell.execute_reply": "2025-01-21T04:54:46.143159Z",
     "shell.execute_reply.started": "2025-01-21T04:54:46.129859Z"
    },
    "papermill": {
     "duration": null,
     "end_time": null,
     "exception": null,
     "start_time": null,
     "status": "pending"
    },
    "tags": []
   },
   "outputs": [],
   "source": [
    "# Normalize numerical features\n",
    "scaler = StandardScaler()\n",
    "# data[numerical_cols] = scaler.fit_transform(data[numerical_cols])\n",
    "\n",
    "# Define the target variable and features\n",
    "X = data_new.drop('Depression', axis=1)\n",
    "Y = data_new['Depression']\n",
    "print(\"Features Extraction Successful\")\n",
    "\n",
    "scaler = StandardScaler(copy=True, with_mean=True, with_std=True)\n",
    "X = scaler.fit_transform(X)"
   ]
  },
  {
   "cell_type": "code",
   "execution_count": null,
   "id": "32afdb00",
   "metadata": {
    "execution": {
     "iopub.execute_input": "2025-01-21T04:55:06.605997Z",
     "iopub.status.busy": "2025-01-21T04:55:06.605614Z",
     "iopub.status.idle": "2025-01-21T04:55:06.856427Z",
     "shell.execute_reply": "2025-01-21T04:55:06.855356Z",
     "shell.execute_reply.started": "2025-01-21T04:55:06.605965Z"
    },
    "papermill": {
     "duration": null,
     "end_time": null,
     "exception": null,
     "start_time": null,
     "status": "pending"
    },
    "tags": []
   },
   "outputs": [],
   "source": [
    "# Split the data into training and testing sets\n",
    "X_train, X_test, y_train, y_test = train_test_split(X, y, test_size=0.2, random_state=42)\n",
    "\n",
    "# Model Development\n",
    "# 1. Random Forest Classifier\n",
    "rf_model = RandomForestClassifier(n_estimators=100, random_state=42)\n",
    "rf_model.fit(X_train, y_train)\n",
    "rf_predictions = rf_model.predict(X_test)\n",
    "print(\"Random Forest Classifier Accuracy:\", accuracy_score(y_test, rf_predictions))\n",
    "print(classification_report(y_test, rf_predictions))"
   ]
  },
  {
   "cell_type": "code",
   "execution_count": null,
   "id": "8f1b14aa",
   "metadata": {
    "execution": {
     "iopub.execute_input": "2025-01-21T04:57:41.199506Z",
     "iopub.status.busy": "2025-01-21T04:57:41.199126Z",
     "iopub.status.idle": "2025-01-21T04:57:41.414138Z",
     "shell.execute_reply": "2025-01-21T04:57:41.413052Z",
     "shell.execute_reply.started": "2025-01-21T04:57:41.199478Z"
    },
    "papermill": {
     "duration": null,
     "end_time": null,
     "exception": null,
     "start_time": null,
     "status": "pending"
    },
    "tags": []
   },
   "outputs": [],
   "source": [
    "rf_cm = confusion_matrix(y_test, rf_predictions)\n",
    "\n",
    "plt.figure(figsize=(8, 6))\n",
    "sns.heatmap(rf_cm, annot=True, cmap='Blues', fmt='g')\n",
    "plt.xlabel('Predicted')\n",
    "plt.ylabel('Actual')\n",
    "plt.title('Random Forest Classifier Confusion Matrix')\n",
    "plt.show()\n"
   ]
  },
  {
   "cell_type": "markdown",
   "id": "44ee9313",
   "metadata": {
    "papermill": {
     "duration": null,
     "end_time": null,
     "exception": null,
     "start_time": null,
     "status": "pending"
    },
    "tags": []
   },
   "source": [
    "# 2. Neural Network"
   ]
  },
  {
   "cell_type": "code",
   "execution_count": null,
   "id": "fc3ddbb5",
   "metadata": {
    "execution": {
     "iopub.execute_input": "2025-01-21T04:59:23.215269Z",
     "iopub.status.busy": "2025-01-21T04:59:23.214868Z",
     "iopub.status.idle": "2025-01-21T04:59:23.221081Z",
     "shell.execute_reply": "2025-01-21T04:59:23.219847Z",
     "shell.execute_reply.started": "2025-01-21T04:59:23.215219Z"
    },
    "papermill": {
     "duration": null,
     "end_time": null,
     "exception": null,
     "start_time": null,
     "status": "pending"
    },
    "tags": []
   },
   "outputs": [],
   "source": [
    "from sklearn.preprocessing import LabelEncoder\n",
    "\n",
    "encoder = LabelEncoder()\n",
    "y_train = encoder.fit_transform(y_train)\n",
    "y_test = encoder.transform(y_test)"
   ]
  },
  {
   "cell_type": "code",
   "execution_count": null,
   "id": "c7030704",
   "metadata": {
    "execution": {
     "iopub.execute_input": "2025-01-21T05:01:20.496422Z",
     "iopub.status.busy": "2025-01-21T05:01:20.496026Z",
     "iopub.status.idle": "2025-01-21T05:01:20.554195Z",
     "shell.execute_reply": "2025-01-21T05:01:20.552979Z",
     "shell.execute_reply.started": "2025-01-21T05:01:20.496391Z"
    },
    "papermill": {
     "duration": null,
     "end_time": null,
     "exception": null,
     "start_time": null,
     "status": "pending"
    },
    "tags": []
   },
   "outputs": [],
   "source": [
    "\n",
    "nn_model = Sequential()\n",
    "nn_model.add(Dense(64, input_dim=X_train.shape[1], activation='relu'))\n",
    "nn_model.add(Dropout(0.5))\n",
    "nn_model.add(Dense(32, activation='relu'))\n",
    "nn_model.add(Dropout(0.5))\n",
    "nn_model.add(Dense(1, activation='sigmoid'))\n",
    "\n",
    "nn_model.compile(optimizer='adam', loss='binary_crossentropy', metrics=['accuracy'])"
   ]
  },
  {
   "cell_type": "code",
   "execution_count": null,
   "id": "c8fc465f",
   "metadata": {
    "execution": {
     "iopub.execute_input": "2025-01-21T04:59:33.694652Z",
     "iopub.status.busy": "2025-01-21T04:59:33.694318Z",
     "iopub.status.idle": "2025-01-21T04:59:40.510332Z",
     "shell.execute_reply": "2025-01-21T04:59:40.508920Z",
     "shell.execute_reply.started": "2025-01-21T04:59:33.694627Z"
    },
    "papermill": {
     "duration": null,
     "end_time": null,
     "exception": null,
     "start_time": null,
     "status": "pending"
    },
    "tags": []
   },
   "outputs": [],
   "source": [
    "# Early stopping to prevent overfitting\n",
    "early_stopping = EarlyStopping(monitor='val_loss', patience=10, restore_best_weights=True)\n",
    "\n",
    "# Train the neural network\n",
    "nn_model.fit(X_train, y_train, epochs=40, batch_size=32, validation_split=0.2, callbacks=[early_stopping])\n",
    "\n",
    "# Evaluate the neural network\n",
    "nn_loss, nn_accuracy = nn_model.evaluate(X_test, y_test)\n",
    "print(\"Neural Network Accuracy:\", nn_accuracy)\n",
    "\n",
    "# Make predictions\n",
    "nn_predictions = (nn_model.predict(X_test) > 0.5).astype(\"int32\")\n",
    "print(classification_report(y_test, nn_predictions))\n"
   ]
  },
  {
   "cell_type": "code",
   "execution_count": null,
   "id": "d9a69f34",
   "metadata": {
    "execution": {
     "iopub.execute_input": "2025-01-21T05:00:53.208398Z",
     "iopub.status.busy": "2025-01-21T05:00:53.207894Z",
     "iopub.status.idle": "2025-01-21T05:00:53.427477Z",
     "shell.execute_reply": "2025-01-21T05:00:53.426368Z",
     "shell.execute_reply.started": "2025-01-21T05:00:53.208364Z"
    },
    "papermill": {
     "duration": null,
     "end_time": null,
     "exception": null,
     "start_time": null,
     "status": "pending"
    },
    "tags": []
   },
   "outputs": [],
   "source": [
    "nn_cm = confusion_matrix(y_test, nn_predictions)\n",
    "\n",
    "plt.figure(figsize=(8, 6))\n",
    "sns.heatmap(nn_cm, annot=True, cmap='Blues', fmt='g')\n",
    "plt.xlabel('Predicted')\n",
    "plt.ylabel('Actual')\n",
    "plt.title('Neural Network Confusion Matrix')\n",
    "plt.show()"
   ]
  },
  {
   "cell_type": "markdown",
   "id": "bd98815d",
   "metadata": {
    "papermill": {
     "duration": null,
     "end_time": null,
     "exception": null,
     "start_time": null,
     "status": "pending"
    },
    "tags": []
   },
   "source": [
    "# 3. XGBoost"
   ]
  },
  {
   "cell_type": "code",
   "execution_count": null,
   "id": "f281e624",
   "metadata": {
    "execution": {
     "iopub.execute_input": "2025-01-21T05:02:20.738152Z",
     "iopub.status.busy": "2025-01-21T05:02:20.737729Z",
     "iopub.status.idle": "2025-01-21T05:02:21.252879Z",
     "shell.execute_reply": "2025-01-21T05:02:21.251980Z",
     "shell.execute_reply.started": "2025-01-21T05:02:20.738124Z"
    },
    "papermill": {
     "duration": null,
     "end_time": null,
     "exception": null,
     "start_time": null,
     "status": "pending"
    },
    "tags": []
   },
   "outputs": [],
   "source": [
    "from xgboost import XGBClassifier\n",
    "\n",
    "model = XGBClassifier()\n",
    "eval_set = [(X_test,y_test)]\n",
    "model.fit(X_train, y_train, early_stopping_rounds= 5, eval_set=eval_set, verbose=True)\n",
    "y_pred = model.predict(X_test)\n",
    "predictions = [round(value) for value in y_pred]"
   ]
  },
  {
   "cell_type": "code",
   "execution_count": null,
   "id": "3a96bc8a",
   "metadata": {
    "execution": {
     "iopub.execute_input": "2025-01-21T05:02:37.202083Z",
     "iopub.status.busy": "2025-01-21T05:02:37.201703Z",
     "iopub.status.idle": "2025-01-21T05:02:37.209753Z",
     "shell.execute_reply": "2025-01-21T05:02:37.208558Z",
     "shell.execute_reply.started": "2025-01-21T05:02:37.202054Z"
    },
    "papermill": {
     "duration": null,
     "end_time": null,
     "exception": null,
     "start_time": null,
     "status": "pending"
    },
    "tags": []
   },
   "outputs": [],
   "source": [
    "XG_accuracy = accuracy_score(y_test, predictions)\n",
    "print(f\" XGBClassifier Accuracy: {XG_accuracy:.2f}\")"
   ]
  },
  {
   "cell_type": "code",
   "execution_count": null,
   "id": "874d1e9d",
   "metadata": {
    "execution": {
     "iopub.execute_input": "2025-01-21T05:02:46.827471Z",
     "iopub.status.busy": "2025-01-21T05:02:46.827085Z",
     "iopub.status.idle": "2025-01-21T05:02:46.841579Z",
     "shell.execute_reply": "2025-01-21T05:02:46.840296Z",
     "shell.execute_reply.started": "2025-01-21T05:02:46.827440Z"
    },
    "papermill": {
     "duration": null,
     "end_time": null,
     "exception": null,
     "start_time": null,
     "status": "pending"
    },
    "tags": []
   },
   "outputs": [],
   "source": [
    "print(classification_report(y_test, y_pred))"
   ]
  },
  {
   "cell_type": "code",
   "execution_count": null,
   "id": "42c594f9",
   "metadata": {
    "execution": {
     "iopub.execute_input": "2025-01-21T05:02:56.047654Z",
     "iopub.status.busy": "2025-01-21T05:02:56.047301Z",
     "iopub.status.idle": "2025-01-21T05:02:56.270379Z",
     "shell.execute_reply": "2025-01-21T05:02:56.268956Z",
     "shell.execute_reply.started": "2025-01-21T05:02:56.047627Z"
    },
    "papermill": {
     "duration": null,
     "end_time": null,
     "exception": null,
     "start_time": null,
     "status": "pending"
    },
    "tags": []
   },
   "outputs": [],
   "source": [
    "XG_cm = confusion_matrix(y_test, y_pred)\n",
    "\n",
    "plt.figure(figsize=(8, 6))\n",
    "sns.heatmap(XG_cm, annot=True, cmap='Blues', fmt='g')\n",
    "plt.xlabel('Predicted')\n",
    "plt.ylabel('Actual')\n",
    "plt.title('XGBClassifier Confusion Matrix')\n",
    "plt.show()"
   ]
  },
  {
   "cell_type": "markdown",
   "id": "c3214863",
   "metadata": {
    "papermill": {
     "duration": null,
     "end_time": null,
     "exception": null,
     "start_time": null,
     "status": "pending"
    },
    "tags": []
   },
   "source": [
    "# 4. LightGBM"
   ]
  },
  {
   "cell_type": "code",
   "execution_count": null,
   "id": "0170f0f5",
   "metadata": {
    "execution": {
     "iopub.execute_input": "2025-01-21T05:05:44.706403Z",
     "iopub.status.busy": "2025-01-21T05:05:44.706025Z",
     "iopub.status.idle": "2025-01-21T05:05:44.792934Z",
     "shell.execute_reply": "2025-01-21T05:05:44.791796Z",
     "shell.execute_reply.started": "2025-01-21T05:05:44.706371Z"
    },
    "papermill": {
     "duration": null,
     "end_time": null,
     "exception": null,
     "start_time": null,
     "status": "pending"
    },
    "tags": []
   },
   "outputs": [],
   "source": [
    "\n",
    "lgbm_model = LGBMClassifier()\n",
    "lgbm_model.fit(X_train, y_train)\n",
    "lgbm_y_pred = lgbm_model.predict(X_test)\n",
    "lgbm_accuracy = accuracy_score(y_test, lgbm_y_pred)\n",
    "print(f\"LightGBM Accuracy: {lgbm_accuracy:.2f}\")"
   ]
  },
  {
   "cell_type": "code",
   "execution_count": null,
   "id": "03650bbc",
   "metadata": {
    "execution": {
     "iopub.execute_input": "2025-01-21T05:06:13.214446Z",
     "iopub.status.busy": "2025-01-21T05:06:13.213973Z",
     "iopub.status.idle": "2025-01-21T05:06:13.229909Z",
     "shell.execute_reply": "2025-01-21T05:06:13.228873Z",
     "shell.execute_reply.started": "2025-01-21T05:06:13.214412Z"
    },
    "papermill": {
     "duration": null,
     "end_time": null,
     "exception": null,
     "start_time": null,
     "status": "pending"
    },
    "tags": []
   },
   "outputs": [],
   "source": [
    "print(\"LightGBM Classification Report:\")\n",
    "print(classification_report(y_test, lgbm_y_pred))"
   ]
  },
  {
   "cell_type": "code",
   "execution_count": null,
   "id": "7168a912",
   "metadata": {
    "execution": {
     "iopub.execute_input": "2025-01-21T05:06:33.507163Z",
     "iopub.status.busy": "2025-01-21T05:06:33.506804Z",
     "iopub.status.idle": "2025-01-21T05:06:33.729128Z",
     "shell.execute_reply": "2025-01-21T05:06:33.728063Z",
     "shell.execute_reply.started": "2025-01-21T05:06:33.507136Z"
    },
    "papermill": {
     "duration": null,
     "end_time": null,
     "exception": null,
     "start_time": null,
     "status": "pending"
    },
    "tags": []
   },
   "outputs": [],
   "source": [
    "lgbm_cm = confusion_matrix(y_test, lgbm_y_pred)\n",
    "\n",
    "plt.figure(figsize=(8, 6))\n",
    "sns.heatmap(lgbm_cm, annot=True, cmap='Blues', fmt='g')\n",
    "plt.xlabel('Predicted')\n",
    "plt.ylabel('Actual')\n",
    "plt.title('LightGBM Confusion Matrix')\n",
    "plt.show()"
   ]
  },
  {
   "cell_type": "markdown",
   "id": "8287aa6d",
   "metadata": {
    "papermill": {
     "duration": null,
     "end_time": null,
     "exception": null,
     "start_time": null,
     "status": "pending"
    },
    "tags": []
   },
   "source": [
    "# 5. CatBoost"
   ]
  },
  {
   "cell_type": "code",
   "execution_count": null,
   "id": "2a1649ad",
   "metadata": {
    "execution": {
     "iopub.execute_input": "2025-01-21T05:07:19.363018Z",
     "iopub.status.busy": "2025-01-21T05:07:19.362605Z",
     "iopub.status.idle": "2025-01-21T05:07:20.853095Z",
     "shell.execute_reply": "2025-01-21T05:07:20.852117Z",
     "shell.execute_reply.started": "2025-01-21T05:07:19.362987Z"
    },
    "papermill": {
     "duration": null,
     "end_time": null,
     "exception": null,
     "start_time": null,
     "status": "pending"
    },
    "tags": []
   },
   "outputs": [],
   "source": [
    "catboost_model = CatBoostClassifier()\n",
    "catboost_model.fit(X_train, y_train)\n",
    "catboost_y_pred = catboost_model.predict(X_test)\n",
    "catboost_accuracy = accuracy_score(y_test, catboost_y_pred)\n",
    "print(f\"CatBoost Accuracy: {catboost_accuracy:.2f}\")"
   ]
  },
  {
   "cell_type": "markdown",
   "id": "aadc8802",
   "metadata": {
    "papermill": {
     "duration": null,
     "end_time": null,
     "exception": null,
     "start_time": null,
     "status": "pending"
    },
    "tags": []
   },
   "source": [
    "# * Confusion Matrix*"
   ]
  },
  {
   "cell_type": "code",
   "execution_count": null,
   "id": "bef7c75b",
   "metadata": {
    "execution": {
     "iopub.execute_input": "2025-01-21T05:10:30.862764Z",
     "iopub.status.busy": "2025-01-21T05:10:30.862388Z",
     "iopub.status.idle": "2025-01-21T05:10:31.092928Z",
     "shell.execute_reply": "2025-01-21T05:10:31.091514Z",
     "shell.execute_reply.started": "2025-01-21T05:10:30.862734Z"
    },
    "papermill": {
     "duration": null,
     "end_time": null,
     "exception": null,
     "start_time": null,
     "status": "pending"
    },
    "tags": []
   },
   "outputs": [],
   "source": [
    "cb_cm = confusion_matrix(y_test, catboost_y_pred)\n",
    "\n",
    "plt.figure(figsize=(8, 6))\n",
    "sns.heatmap(cb_cm, annot=True, cmap='Blues', fmt='g')\n",
    "plt.xlabel('Predicted')\n",
    "plt.ylabel('Actual')\n",
    "plt.title('CatBoost Confusion Matrix')\n",
    "plt.show()"
   ]
  },
  {
   "cell_type": "markdown",
   "id": "c68e00c6",
   "metadata": {
    "papermill": {
     "duration": null,
     "end_time": null,
     "exception": null,
     "start_time": null,
     "status": "pending"
    },
    "tags": []
   },
   "source": [
    "# Conclusion\n",
    "\n",
    "The following models are deployed for classification task of Depression prediction with its respective accuracy which indicates-> Neural Network performs the best out of all. \n",
    "\n",
    "1. Random Forest Classifier  0.95\n",
    "2. Neural Network  0.97\n",
    "3. XGBoost  0.96\n",
    "4. LightGBM 0.96\n",
    "5. CatBoost 0.96"
   ]
  }
 ],
 "metadata": {
  "kaggle": {
   "accelerator": "none",
   "dataSources": [
    {
     "datasetId": 6125308,
     "sourceId": 9958890,
     "sourceType": "datasetVersion"
    }
   ],
   "dockerImageVersionId": 30839,
   "isGpuEnabled": false,
   "isInternetEnabled": true,
   "language": "python",
   "sourceType": "notebook"
  },
  "kernelspec": {
   "display_name": "Python 3",
   "language": "python",
   "name": "python3"
  },
  "language_info": {
   "codemirror_mode": {
    "name": "ipython",
    "version": 3
   },
   "file_extension": ".py",
   "mimetype": "text/x-python",
   "name": "python",
   "nbconvert_exporter": "python",
   "pygments_lexer": "ipython3",
   "version": "3.10.12"
  },
  "papermill": {
   "default_parameters": {},
   "duration": 28.592903,
   "end_time": "2025-01-21T05:22:22.500233",
   "environment_variables": {},
   "exception": true,
   "input_path": "__notebook__.ipynb",
   "output_path": "__notebook__.ipynb",
   "parameters": {},
   "start_time": "2025-01-21T05:21:53.907330",
   "version": "2.6.0"
  }
 },
 "nbformat": 4,
 "nbformat_minor": 5
}
